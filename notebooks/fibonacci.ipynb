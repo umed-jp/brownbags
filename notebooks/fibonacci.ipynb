{
 "cells": [
  {
   "cell_type": "markdown",
   "id": "eff7bf62",
   "metadata": {},
   "source": [
    "色々な面白いトピックがありますが，今日はFibnacciをベースに色々な書き方で書いていきます。\n",
    "\n",
    "主に\n",
    "* Type Hint\n",
    "* Private Method\n",
    "* Magic Method(Dunder)\n",
    "* Decorator\n",
    "* List Comprehension/Loop/Generator\n",
    "\n",
    "\n",
    "\n",
    "# Fibonacci Seq\n",
    "今日はFibonacciの公式をベースにコードを書いていくので，念の為\n",
    "\n",
    "```\n",
    "F0 = 0\n",
    "F1 = 1 \n",
    "Fn = Fn-1 + Fn-2\n",
    "```\n",
    "\n",
    "## 環境設定\n",
    "* pipがよく使われるLibのインストールツール\n",
    "* 環境のバージョン管理とかはDev Container,Poetry, virtualenvなどを使うことがある\n",
    "\n",
    "\n",
    "## Syntax \n",
    "* 細かいSyntaxは https://peps.python.org/pep-0008/ \n",
    "* Linterなど色々ツールがあるので試してみてください。私はflake8\n",
    "* Naming conventionとかPrivate Method の名前の付け方はLinterでカバーしきれないのでDocを一読してみてくだい\n",
    "* Guideline はhttps://google.github.io/styleguide/pyguide.html　を参考にしてます\n"
   ]
  },
  {
   "cell_type": "code",
   "execution_count": 1,
   "id": "3b15bc5b",
   "metadata": {},
   "outputs": [
    {
     "name": "stdout",
     "output_type": "stream",
     "text": [
      "Python 3.9.13\r\n"
     ]
    }
   ],
   "source": [
    "!python -V"
   ]
  },
  {
   "cell_type": "markdown",
   "id": "c55eaafc",
   "metadata": {},
   "source": [
    "## まずは最初に簡単なFibonacciのMethod書いてみます"
   ]
  },
  {
   "cell_type": "code",
   "execution_count": 2,
   "id": "447edddd",
   "metadata": {},
   "outputs": [],
   "source": [
    "def fib(n):\n",
    "    if n <= 1:\n",
    "        return n\n",
    "    else:\n",
    "        return fib(n-1) + fib(n-2)\n"
   ]
  },
  {
   "cell_type": "markdown",
   "id": "63edd624",
   "metadata": {},
   "source": [
    "### これにTypeHintを付けてみます"
   ]
  },
  {
   "cell_type": "code",
   "execution_count": 27,
   "id": "73dea314",
   "metadata": {},
   "outputs": [],
   "source": [
    "def fib(n: int) -> int: \n",
    "    if n <= 1:\n",
    "        return n\n",
    "    else:\n",
    "        return fib(n-1) + fib(n-2)"
   ]
  },
  {
   "cell_type": "markdown",
   "id": "93f90cc3",
   "metadata": {},
   "source": [
    "## Classを追加してみます"
   ]
  },
  {
   "cell_type": "code",
   "execution_count": 26,
   "id": "d0430bff",
   "metadata": {},
   "outputs": [],
   "source": [
    "class Fibonacci:\n",
    "    def calculate(self, n: int) -> int:\n",
    "        if n <= 1:\n",
    "            return n\n",
    "        else:\n",
    "            return self.calculate(n-1) + self.calculate(n-2)"
   ]
  },
  {
   "cell_type": "markdown",
   "id": "5c2ea6f6",
   "metadata": {},
   "source": [
    "## Private Variable を追加してみます\n",
    "\n",
    "private variable/method は_varialbe みたいな感じで名前をつけます。"
   ]
  },
  {
   "cell_type": "code",
   "execution_count": 5,
   "id": "47de9c7d",
   "metadata": {},
   "outputs": [
    {
     "data": {
      "text/plain": [
       "{2: 1, 3: 2, 4: 3, 5: 5}"
      ]
     },
     "execution_count": 5,
     "metadata": {},
     "output_type": "execute_result"
    }
   ],
   "source": [
    "class Fibonacci:\n",
    "    def __init__(self):\n",
    "        self._cache = {}\n",
    "\n",
    "    def calculate(self, n: int) -> int:\n",
    "        if n in self._cache:\n",
    "            return self._cache[n]\n",
    "        if n <= 1:\n",
    "            return n\n",
    "        else:\n",
    "            self._cache[n] = self.calculate(n-1) + self.calculate(n-2)\n",
    "            return self._cache[n]\n",
    "\n",
    "# fib = Fibonacci()\n",
    "# fib.calculate(5)\n",
    "# fib._cache\n",
    "# print(dir(Fibonacci))"
   ]
  },
  {
   "cell_type": "markdown",
   "id": "b919eafb",
   "metadata": {},
   "source": [
    "Private variable/method はName Convensionというだけなので，アクセスはできます。"
   ]
  },
  {
   "cell_type": "markdown",
   "id": "23b1f4c0",
   "metadata": {},
   "source": [
    "## Private method を\"__\" に変えてみます\n"
   ]
  },
  {
   "cell_type": "code",
   "execution_count": 12,
   "id": "52a22cae",
   "metadata": {},
   "outputs": [],
   "source": [
    "class Fibonacci:\n",
    "    def __init__(self):\n",
    "        self._cache = {}\n",
    "\n",
    "    def __calculate(self, n: int) -> int:\n",
    "        if n in self._cache:\n",
    "            return self._cache[n]\n",
    "        if n <= 1:\n",
    "            return n\n",
    "        else:\n",
    "            self._cache[n] = self.__calculate(n-1) + self.__calculate(n-2)\n",
    "            return self._cache[n]\n",
    "        \n",
    "# print(dir(Fibonacci))\n",
    "# fib = Fibonacci()\n",
    "# fib._Fibonacci__calculate(5)\n",
    "# fib.__calculate(5)"
   ]
  },
  {
   "cell_type": "markdown",
   "id": "9b5f19d9",
   "metadata": {},
   "source": [
    "## Magic Method を使ってみます\n"
   ]
  },
  {
   "cell_type": "code",
   "execution_count": 44,
   "id": "e54b24f6",
   "metadata": {},
   "outputs": [],
   "source": [
    "class Fibonacci:\n",
    "    def __getitem__(self, n: int) -> int:\n",
    "        if n <= 1:\n",
    "            return n\n",
    "        else:\n",
    "            return self[n-1] + self[n-2]\n",
    "# fib = Fibonacci()\n",
    "# print(fib[10])"
   ]
  },
  {
   "cell_type": "code",
   "execution_count": 9,
   "id": "a6075190",
   "metadata": {},
   "outputs": [
    {
     "name": "stdout",
     "output_type": "stream",
     "text": [
      "3025\n"
     ]
    }
   ],
   "source": [
    "class AdvancedFibonacci:\n",
    "    def __init__(self):\n",
    "        self._cache: dict[int, int] = {}\n",
    "\n",
    "    def _calculate(self, n: int) -> int:\n",
    "        if n in self._cache:\n",
    "            return self._cache[n]\n",
    "        if n <= 1:\n",
    "            return n\n",
    "        else:\n",
    "            result = self._calculate(n-1) + self._calculate(n-2)\n",
    "            self._cache[n] = result\n",
    "            return result\n",
    "\n",
    "    def __getitem__(self, n: int) -> int:\n",
    "        return self._calculate(n)\n",
    "\n",
    "    def __add__(self, other: 'AdvancedFibonacci') -> int:\n",
    "        # Override addition to perform multiplication\n",
    "        if isinstance(other, AdvancedFibonacci):\n",
    "            return self.__getitem__(10) * other.__getitem__(10)\n",
    "        else:\n",
    "            raise TypeError(\"Unsupported operand type(s) for +: 'AdvancedFibonacci' and '{}'\".format(type(other).__name__))\n",
    "\n",
    "# Example usage\n",
    "fib1 = AdvancedFibonacci()\n",
    "fib2 = AdvancedFibonacci()\n",
    "\n",
    "print(fib1 + fib2) "
   ]
  },
  {
   "cell_type": "markdown",
   "id": "b88d82a3",
   "metadata": {},
   "source": [
    "## 複雑になってきたので，一度リセットして，Decoratorの説明をします"
   ]
  },
  {
   "cell_type": "code",
   "execution_count": 7,
   "id": "210e8415",
   "metadata": {},
   "outputs": [
    {
     "name": "stdout",
     "output_type": "stream",
     "text": [
      "Something is happening before the function is called.\n",
      "Hello!\n",
      "Something is happening after the function is called.\n"
     ]
    }
   ],
   "source": [
    "from typing import Callable\n",
    "\n",
    "def my_decorator(func: Callable[[], None]) -> Callable[[], None]:\n",
    "    def wrapper() -> None:\n",
    "        print(\"Something is happening before the function is called.\")\n",
    "        func()\n",
    "        print(\"Something is happening after the function is called.\")\n",
    "    return wrapper\n",
    "\n",
    "@my_decorator\n",
    "def say_hello() -> None:\n",
    "    print(\"Hello!\")\n",
    "\n",
    "say_hello()"
   ]
  },
  {
   "cell_type": "markdown",
   "id": "df77a266",
   "metadata": {},
   "source": [
    "### DecoratorをFibに応用してみます"
   ]
  },
  {
   "cell_type": "code",
   "execution_count": 11,
   "id": "f6dd70e7",
   "metadata": {},
   "outputs": [],
   "source": [
    "def memoize(func):\n",
    "    cache = {}\n",
    "    def wrapper(n):\n",
    "        if n not in cache:\n",
    "            cache[n] = func(n)\n",
    "        return cache[n]\n",
    "    return wrapper\n",
    "\n",
    "@memoize\n",
    "def fibonacci(n):\n",
    "    if n < 2:\n",
    "        return n\n",
    "    return fibonacci(n - 1) + fibonacci(n - 2)"
   ]
  },
  {
   "cell_type": "markdown",
   "id": "5c52a3b8",
   "metadata": {},
   "source": [
    "# Loop とかListを使って書いていきます"
   ]
  },
  {
   "cell_type": "markdown",
   "id": "3aef4b48",
   "metadata": {},
   "source": [
    "### Simple Loop"
   ]
  },
  {
   "cell_type": "code",
   "execution_count": 72,
   "id": "8b5b928c",
   "metadata": {},
   "outputs": [],
   "source": [
    "def multiply_two(items: list[int]) -> list[int]: \n",
    "    output = []\n",
    "    for item in items:\n",
    "        output.append(item*2)\n",
    "    return output"
   ]
  },
  {
   "cell_type": "markdown",
   "id": "91731cc1",
   "metadata": {},
   "source": [
    "### List Comprehension"
   ]
  },
  {
   "cell_type": "code",
   "execution_count": 53,
   "id": "ae2555fb",
   "metadata": {},
   "outputs": [
    {
     "data": {
      "text/plain": [
       "[2, 4, 6]"
      ]
     },
     "execution_count": 53,
     "metadata": {},
     "output_type": "execute_result"
    }
   ],
   "source": [
    "def multiply_two_improve(items: list[int]) -> list[int]:\n",
    "    return [item*2 for item in items]"
   ]
  },
  {
   "cell_type": "markdown",
   "id": "42ca02da",
   "metadata": {},
   "source": [
    "### Generator Function (Iterative Object)"
   ]
  },
  {
   "cell_type": "code",
   "execution_count": 79,
   "id": "e82bdc99",
   "metadata": {},
   "outputs": [],
   "source": [
    "from typing import Iterator\n",
    "\n",
    "def multiply_two_generator(items: list[int]) -> Iterator[int]:\n",
    "    for item in items:\n",
    "        yield item * 2\n"
   ]
  },
  {
   "cell_type": "markdown",
   "id": "7533ecd3",
   "metadata": {},
   "source": [
    "### では，簡単にFibでも応用してみます"
   ]
  },
  {
   "cell_type": "code",
   "execution_count": 82,
   "id": "63bc9cc6",
   "metadata": {},
   "outputs": [],
   "source": [
    "from typing import Iterator\n",
    "\n",
    "def fib_pair(n: int) -> Iterator[tuple[int, int]]:\n",
    "    a, b = 0, 1\n",
    "    for _ in range(n):\n",
    "        yield a, b\n",
    "        a, b = b, a + b"
   ]
  },
  {
   "cell_type": "code",
   "execution_count": 84,
   "id": "1e329b45",
   "metadata": {},
   "outputs": [],
   "source": [
    "def fib_list(n: int) -> list[int]:\n",
    "    result = []\n",
    "    for a, _ in fib_pair(n):\n",
    "        result.append(a)\n",
    "    return result\n"
   ]
  },
  {
   "cell_type": "code",
   "execution_count": 83,
   "id": "7c8aa8e5",
   "metadata": {},
   "outputs": [],
   "source": [
    "def fib_list_comprehension(n: int) -> list[int]:\n",
    "    return [a for a, _ in fib_pair(n)]"
   ]
  },
  {
   "cell_type": "code",
   "execution_count": null,
   "id": "a35d7288",
   "metadata": {},
   "outputs": [],
   "source": []
  }
 ],
 "metadata": {
  "kernelspec": {
   "display_name": "Python 3 (ipykernel)",
   "language": "python",
   "name": "python3"
  },
  "language_info": {
   "codemirror_mode": {
    "name": "ipython",
    "version": 3
   },
   "file_extension": ".py",
   "mimetype": "text/x-python",
   "name": "python",
   "nbconvert_exporter": "python",
   "pygments_lexer": "ipython3",
   "version": "3.9.13"
  }
 },
 "nbformat": 4,
 "nbformat_minor": 5
}
